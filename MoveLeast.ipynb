{
 "cells": [
  {
   "cell_type": "markdown",
   "metadata": {},
   "source": [
    "# Min Road (Dynamic Programming)\n",
    "#### 1. Move Road (Sum Value is min)\n",
    "#### 2. Find Road List"
   ]
  },
  {
   "cell_type": "code",
   "execution_count": 2,
   "metadata": {},
   "outputs": [
    {
     "name": "stdout",
     "output_type": "stream",
     "text": [
      "띄어쓰기 간격으로 세로 길이와 가로 길이를 입력해주세요!4 4\n",
      "띄어쓰기 간격으로 각 가로줄의 요소를 입력해주세요!6 7 12 5\n",
      "띄어쓰기 간격으로 각 가로줄의 요소를 입력해주세요!5 3 11 18\n",
      "띄어쓰기 간격으로 각 가로줄의 요소를 입력해주세요!7 17 3 3\n",
      "띄어쓰기 간격으로 각 가로줄의 요소를 입력해주세요!8 10 14 9\n",
      "40.0\n",
      "[6.0, 5.0, 3.0, 11.0, 3.0, 3.0, 9.0]\n"
     ]
    }
   ],
   "source": [
    "# L[1,1]에서 L[i,j]까지 가는 최소 값.\n",
    "import numpy as np\n",
    "\n",
    "# 입력 및 처리 부분.\n",
    "input_scale = input(\"띄어쓰기 간격으로 세로 길이와 가로 길이를 입력해주세요!\").split()\n",
    "i,j = int(input_scale[0]), int(input_scale[1])\n",
    "input_values=np.zeros((i,j))\n",
    "for k in range(i):\n",
    "    input_value = input(\"띄어쓰기 간격으로 각 가로줄의 요소를 입력해주세요!\").split()\n",
    "    input_value = list(map(int, input_value))\n",
    "    for m in range(j):\n",
    "        input_values[k][m] = input_value[m]\n",
    "\n",
    "# 변수 관리 부분.\n",
    "least_list = np.zeros((i,j)) # Memoization\n",
    "t_list = input_values\n",
    "n = i-1\n",
    "m = j-1\n",
    "road=[]\n",
    "\n",
    "# 각 경로에 대한 합의 리스트인 least_list의 특성을 이용해서 경로 찾기\n",
    "def find_road(least_list,n,m):\n",
    "    global road\n",
    "    if n ==0 and m == 0 :\n",
    "        road.insert(0,least_list[0][0])\n",
    "        return\n",
    "    elif n==0:\n",
    "        road.insert(0,least_list[n][m]-least_list[n][m-1])\n",
    "        find_road(least_list,n,m-1)\n",
    "    elif m==0:\n",
    "        road.insert(0,least_list[n][m]-least_list[n-1][m])\n",
    "        find_road(least_list,n-1,m)\n",
    "    else:\n",
    "        road.insert(0,least_list[n][m]-min(least_list[n-1][m],least_list[n][m-1]))\n",
    "        if least_list[n-1][m]>least_list[n][m-1]:\n",
    "            find_road(least_list,n,m-1)\n",
    "        else:\n",
    "            find_road(least_list,n-1,m)\n",
    "\n",
    "# 최단경로 찾기\n",
    "def least_move(t_list, i, j):\n",
    "    global road\n",
    "    global least_list\n",
    "    if i==0 and j==0:\n",
    "        least_list[i,j] = t_list[i][j]\n",
    "    elif i==0:\n",
    "        least_list[i,j] = least_move(t_list,0,j-1) + t_list[i][j]\n",
    "    elif j==0:\n",
    "        least_list[i,j] = least_move(t_list,i-1,0) + t_list[i][j]\n",
    "    else:\n",
    "        least_list[i,j] = min(least_move(t_list, i-1,j), least_move(t_list, i, j-1)) + t_list[i][j]\n",
    "    return least_list[i,j]\n",
    "\n",
    "\n",
    "least_move(t_list, n, m)\n",
    "find_road(least_list,n,m)\n",
    "\n",
    "print(least_list[n][m])\n",
    "print(road)"
   ]
  },
  {
   "cell_type": "code",
   "execution_count": null,
   "metadata": {},
   "outputs": [],
   "source": []
  }
 ],
 "metadata": {
  "kernelspec": {
   "display_name": "Python 3",
   "language": "python",
   "name": "python3"
  },
  "language_info": {
   "codemirror_mode": {
    "name": "ipython",
    "version": 3
   },
   "file_extension": ".py",
   "mimetype": "text/x-python",
   "name": "python",
   "nbconvert_exporter": "python",
   "pygments_lexer": "ipython3",
   "version": "3.8.5"
  }
 },
 "nbformat": 4,
 "nbformat_minor": 4
}
