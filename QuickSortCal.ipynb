{
 "cells": [
  {
   "cell_type": "markdown",
   "metadata": {},
   "source": [
    "# Quick Sort Code (KOR)\n",
    "#### 1. Sort\n",
    "#### 2. Calculate +-+-+-"
   ]
  },
  {
   "cell_type": "code",
   "execution_count": 2,
   "metadata": {},
   "outputs": [
    {
     "name": "stdout",
     "output_type": "stream",
     "text": [
      "리스트의 길이를 입력해주세요 : 6\n",
      "리스트의 요소를 띄어쓰기를 통해 구분해서 넣어주세요 : 4 7 2 9 8 1\n",
      "리스트 정렬 결과\n",
      "[1, 2, 4, 7, 8, 9]\n",
      "\n",
      " Cal List\n",
      "-5\n"
     ]
    }
   ],
   "source": [
    "# Calculate +-+-+-\n",
    "def cal_list(sort_list):\n",
    "    sum_value= sort_list[0]\n",
    "    for i in range(1,len(sort_list)):\n",
    "        sum_value += sort_list[i] * (-1)**i\n",
    "    return sum_value\n",
    "\n",
    "# Conquer and Combine\n",
    "def partition(q_list, left, right):\n",
    "    pivot = q_list[left]\n",
    "    i = left\n",
    "    j = right\n",
    "    while i<j:\n",
    "        while q_list[i]<=pivot and i<right:\n",
    "            i +=1\n",
    "        while q_list[j]>=pivot and j>left:\n",
    "            j -=1\n",
    "        if i<j:\n",
    "            q_list[i],q_list[j] = q_list[j],q_list[i]\n",
    "    q_list[left], q_list[j] = q_list[j],q_list[left]\n",
    "    \n",
    "    \n",
    "    return j\n",
    "\n",
    "\n",
    "# Quick Sort Code\n",
    "# Divide And Conquer\n",
    "def q_sort(q_list, left, right):\n",
    "    if left<right:\n",
    "        p = partition(q_list, left, right)\n",
    "        q_sort(q_list, left, p-1)\n",
    "        q_sort(q_list, p+1, right)\n",
    "    return q_list\n",
    "\n",
    "n = input(\"리스트의 길이를 입력해주세요 : \")\n",
    "input_value = input(\"리스트의 요소를 띄어쓰기를 통해 구분해서 넣어주세요 : \").split()\n",
    "\n",
    "q_list= [int (i) for i in input_value]\n",
    "n = int(n)\n",
    "left = 0\n",
    "right = len(q_list)\n",
    "\n",
    "# Safe Coding\n",
    "if right != n:\n",
    "    print(\"리스트의 길이가 다릅니다.\")\n",
    "else:\n",
    "    q_list = q_sort(q_list,left,right-1)\n",
    "    print(\"리스트 정렬 결과\")\n",
    "    print(q_list)\n",
    "    print(\"\\n Cal List\")\n",
    "    print(cal_list(q_list))\n"
   ]
  },
  {
   "cell_type": "code",
   "execution_count": null,
   "metadata": {},
   "outputs": [],
   "source": []
  }
 ],
 "metadata": {
  "kernelspec": {
   "display_name": "Python 3",
   "language": "python",
   "name": "python3"
  },
  "language_info": {
   "codemirror_mode": {
    "name": "ipython",
    "version": 3
   },
   "file_extension": ".py",
   "mimetype": "text/x-python",
   "name": "python",
   "nbconvert_exporter": "python",
   "pygments_lexer": "ipython3",
   "version": "3.8.5"
  }
 },
 "nbformat": 4,
 "nbformat_minor": 4
}
