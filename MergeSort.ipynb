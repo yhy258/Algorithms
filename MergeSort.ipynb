{
 "cells": [
  {
   "cell_type": "markdown",
   "metadata": {},
   "source": [
    "# MergeSort (Divide and Conquer )\n",
    "#### 1. Divide List\n",
    "#### 2. Conquer and Combine (Sort)"
   ]
  },
  {
   "cell_type": "code",
   "execution_count": 1,
   "metadata": {},
   "outputs": [
    {
     "data": {
      "text/plain": [
       "[1, 1, 2, 2, 2, 3, 4, 5, 7]"
      ]
     },
     "execution_count": 1,
     "metadata": {},
     "output_type": "execute_result"
    }
   ],
   "source": [
    "# Conquer and Combine\n",
    "# Start부터 end까지 정렬.\n",
    "def Merge(m_list, start, mid, end):\n",
    "    # 시작 인덱스\n",
    "    s_index = start\n",
    "    # 중간 인덱스\n",
    "    m_index = mid+1\n",
    "    # Create Sort Support List\n",
    "    result = []\n",
    "    \n",
    "    while s_index<mid+1 and m_index<end+1:\n",
    "        if m_list[s_index]<m_list[m_index]:\n",
    "            result.append(m_list[s_index])\n",
    "            s_index +=1\n",
    "        else:\n",
    "            result.append(m_list[m_index])\n",
    "            m_index +=1\n",
    "    # start부터 mid까지 s_index가 다 돌았을경우\n",
    "    if s_index>mid:\n",
    "        for i in range(m_index,end+1):\n",
    "            result.append(m_list[i])\n",
    "    # mid+1부터 end까지 s_index가 다 돌았을경우\n",
    "    if m_index>end:\n",
    "        for j in range(s_index, mid+1):\n",
    "            result.append(m_list[j])\n",
    "    \n",
    "    # Support List에서 진짜 리스트로 대입.\n",
    "    m_list[start:end+1] = result\n",
    "\n",
    "# Divide and Conquer\n",
    "def MergeSort(m_list, start, end):\n",
    "    # 더 나눠지지 않을때 까지\n",
    "    if start<end :\n",
    "        mid = (start+end)//2\n",
    "        MergeSort(m_list, start, mid)\n",
    "        MergeSort(m_list, mid+1 ,end)\n",
    "        Merge(m_list, start, mid ,end)\n",
    "    return m_list"
   ]
  },
  {
   "cell_type": "code",
   "execution_count": null,
   "metadata": {},
   "outputs": [],
   "source": []
  }
 ],
 "metadata": {
  "kernelspec": {
   "display_name": "Python 3",
   "language": "python",
   "name": "python3"
  },
  "language_info": {
   "codemirror_mode": {
    "name": "ipython",
    "version": 3
   },
   "file_extension": ".py",
   "mimetype": "text/x-python",
   "name": "python",
   "nbconvert_exporter": "python",
   "pygments_lexer": "ipython3",
   "version": "3.8.5"
  }
 },
 "nbformat": 4,
 "nbformat_minor": 4
}
